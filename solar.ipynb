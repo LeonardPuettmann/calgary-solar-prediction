{
 "cells": [
  {
   "cell_type": "markdown",
   "metadata": {},
   "source": [
    "- for more information -> https://data.calgary.ca/Environment/Solar-Energy-Production/ytdn-2qsp\n",
    "- API docs -> https://dev.socrata.com/foundry/data.calgary.ca/ytdn-2qsp"
   ]
  },
  {
   "cell_type": "code",
   "execution_count": 1,
   "metadata": {},
   "outputs": [],
   "source": [
    "import pandas as pd "
   ]
  },
  {
   "cell_type": "code",
   "execution_count": 2,
   "metadata": {},
   "outputs": [],
   "source": [
    "df = pd.read_json(\"https://data.calgary.ca/resource/ytdn-2qsp.json\")"
   ]
  },
  {
   "cell_type": "code",
   "execution_count": 4,
   "metadata": {},
   "outputs": [
    {
     "name": "stdout",
     "output_type": "stream",
     "text": [
      "<class 'pandas.core.frame.DataFrame'>\n",
      "RangeIndex: 1000 entries, 0 to 999\n",
      "Data columns (total 8 columns):\n",
      " #   Column            Non-Null Count  Dtype         \n",
      "---  ------            --------------  -----         \n",
      " 0   name              1000 non-null   object        \n",
      " 1   id                1000 non-null   int64         \n",
      " 2   address           1000 non-null   object        \n",
      " 3   date              1000 non-null   datetime64[ns]\n",
      " 4   kwh               1000 non-null   float64       \n",
      " 5   public_url        1000 non-null   object        \n",
      " 6   installationdate  1000 non-null   object        \n",
      " 7   uid               1000 non-null   object        \n",
      "dtypes: datetime64[ns](1), float64(1), int64(1), object(5)\n",
      "memory usage: 62.6+ KB\n"
     ]
    }
   ],
   "source": [
    "df.info()"
   ]
  },
  {
   "cell_type": "code",
   "execution_count": 3,
   "metadata": {},
   "outputs": [
    {
     "data": {
      "text/html": [
       "<div>\n",
       "<style scoped>\n",
       "    .dataframe tbody tr th:only-of-type {\n",
       "        vertical-align: middle;\n",
       "    }\n",
       "\n",
       "    .dataframe tbody tr th {\n",
       "        vertical-align: top;\n",
       "    }\n",
       "\n",
       "    .dataframe thead th {\n",
       "        text-align: right;\n",
       "    }\n",
       "</style>\n",
       "<table border=\"1\" class=\"dataframe\">\n",
       "  <thead>\n",
       "    <tr style=\"text-align: right;\">\n",
       "      <th></th>\n",
       "      <th>name</th>\n",
       "      <th>id</th>\n",
       "      <th>address</th>\n",
       "      <th>date</th>\n",
       "      <th>kwh</th>\n",
       "      <th>public_url</th>\n",
       "      <th>installationdate</th>\n",
       "      <th>uid</th>\n",
       "    </tr>\n",
       "  </thead>\n",
       "  <tbody>\n",
       "    <tr>\n",
       "      <th>0</th>\n",
       "      <td>Southland Leisure Centre</td>\n",
       "      <td>164440</td>\n",
       "      <td>2000 SOUTHLAND DR SW</td>\n",
       "      <td>2015-09-01 14:30:00</td>\n",
       "      <td>27.805270</td>\n",
       "      <td>https://monitoring.solaredge.com/solaredge-web...</td>\n",
       "      <td>2015-09-01T00:00:00.000</td>\n",
       "      <td>1644402015-09-01 14:30:00</td>\n",
       "    </tr>\n",
       "    <tr>\n",
       "      <th>1</th>\n",
       "      <td>Southland Leisure Centre</td>\n",
       "      <td>164440</td>\n",
       "      <td>2000 SOUTHLAND DR SW</td>\n",
       "      <td>2015-09-01 15:30:00</td>\n",
       "      <td>30.558988</td>\n",
       "      <td>https://monitoring.solaredge.com/solaredge-web...</td>\n",
       "      <td>2015-09-01T00:00:00.000</td>\n",
       "      <td>1644402015-09-01 15:30:00</td>\n",
       "    </tr>\n",
       "    <tr>\n",
       "      <th>2</th>\n",
       "      <td>Southland Leisure Centre</td>\n",
       "      <td>164440</td>\n",
       "      <td>2000 SOUTHLAND DR SW</td>\n",
       "      <td>2015-09-01 16:30:00</td>\n",
       "      <td>23.613203</td>\n",
       "      <td>https://monitoring.solaredge.com/solaredge-web...</td>\n",
       "      <td>2015-09-01T00:00:00.000</td>\n",
       "      <td>1644402015-09-01 16:30:00</td>\n",
       "    </tr>\n",
       "    <tr>\n",
       "      <th>3</th>\n",
       "      <td>Southland Leisure Centre</td>\n",
       "      <td>164440</td>\n",
       "      <td>2000 SOUTHLAND DR SW</td>\n",
       "      <td>2015-09-01 17:30:00</td>\n",
       "      <td>15.257482</td>\n",
       "      <td>https://monitoring.solaredge.com/solaredge-web...</td>\n",
       "      <td>2015-09-01T00:00:00.000</td>\n",
       "      <td>1644402015-09-01 17:30:00</td>\n",
       "    </tr>\n",
       "    <tr>\n",
       "      <th>4</th>\n",
       "      <td>Southland Leisure Centre</td>\n",
       "      <td>164440</td>\n",
       "      <td>2000 SOUTHLAND DR SW</td>\n",
       "      <td>2015-09-01 18:30:00</td>\n",
       "      <td>7.895589</td>\n",
       "      <td>https://monitoring.solaredge.com/solaredge-web...</td>\n",
       "      <td>2015-09-01T00:00:00.000</td>\n",
       "      <td>1644402015-09-01 18:30:00</td>\n",
       "    </tr>\n",
       "  </tbody>\n",
       "</table>\n",
       "</div>"
      ],
      "text/plain": [
       "                       name      id               address                date  \\\n",
       "0  Southland Leisure Centre  164440  2000 SOUTHLAND DR SW 2015-09-01 14:30:00   \n",
       "1  Southland Leisure Centre  164440  2000 SOUTHLAND DR SW 2015-09-01 15:30:00   \n",
       "2  Southland Leisure Centre  164440  2000 SOUTHLAND DR SW 2015-09-01 16:30:00   \n",
       "3  Southland Leisure Centre  164440  2000 SOUTHLAND DR SW 2015-09-01 17:30:00   \n",
       "4  Southland Leisure Centre  164440  2000 SOUTHLAND DR SW 2015-09-01 18:30:00   \n",
       "\n",
       "         kwh                                         public_url  \\\n",
       "0  27.805270  https://monitoring.solaredge.com/solaredge-web...   \n",
       "1  30.558988  https://monitoring.solaredge.com/solaredge-web...   \n",
       "2  23.613203  https://monitoring.solaredge.com/solaredge-web...   \n",
       "3  15.257482  https://monitoring.solaredge.com/solaredge-web...   \n",
       "4   7.895589  https://monitoring.solaredge.com/solaredge-web...   \n",
       "\n",
       "          installationdate                        uid  \n",
       "0  2015-09-01T00:00:00.000  1644402015-09-01 14:30:00  \n",
       "1  2015-09-01T00:00:00.000  1644402015-09-01 15:30:00  \n",
       "2  2015-09-01T00:00:00.000  1644402015-09-01 16:30:00  \n",
       "3  2015-09-01T00:00:00.000  1644402015-09-01 17:30:00  \n",
       "4  2015-09-01T00:00:00.000  1644402015-09-01 18:30:00  "
      ]
     },
     "execution_count": 3,
     "metadata": {},
     "output_type": "execute_result"
    }
   ],
   "source": [
    "df.head()"
   ]
  },
  {
   "cell_type": "code",
   "execution_count": null,
   "metadata": {},
   "outputs": [],
   "source": []
  }
 ],
 "metadata": {
  "kernelspec": {
   "display_name": "Python 3",
   "language": "python",
   "name": "python3"
  },
  "language_info": {
   "codemirror_mode": {
    "name": "ipython",
    "version": 3
   },
   "file_extension": ".py",
   "mimetype": "text/x-python",
   "name": "python",
   "nbconvert_exporter": "python",
   "pygments_lexer": "ipython3",
   "version": "3.9.0"
  },
  "orig_nbformat": 4
 },
 "nbformat": 4,
 "nbformat_minor": 2
}
